{
 "cells": [
  {
   "cell_type": "code",
   "execution_count": 1,
   "metadata": {},
   "outputs": [],
   "source": [
    "# Import packages and load the model\n",
    "import pickle\n",
    "from cfr import *\n",
    "\n",
    "# Loading the model\n",
    "with open(\"bot.p\", \"rb\") as f:\n",
    "    trainer = pickle.load(f)\n"
   ]
  },
  {
   "cell_type": "markdown",
   "metadata": {},
   "source": [
    "# Interacting with the bot\n",
    "To interact with the strategy produced by the bot, you can load the pickled model and interact with it using the get actions function. It takes the inputs:\n",
    "* Hand: a hand of two cards represented by a list, for example if I have a pair of red tens I would input ['TH' , 'TD'], or a a suited 2 and three ['3H', '3D']\n",
    "* History: a string represented the past moves in the game, for example if player one passes the history is 'p' (note that the history can be empty when no moves are played)"
   ]
  },
  {
   "cell_type": "code",
   "execution_count": 2,
   "metadata": {},
   "outputs": [],
   "source": [
    "def get_action(hand, history = ''):\n",
    "    strength = str(evaluate_hand(hand))\n",
    "    key = strength + ' ' + history\n",
    "    strategy = [float(prob) for prob in trainer.node_map[key].get_average_strategy()]\n",
    "    action = random.choices(['pass', 'bet'], weights=strategy, k=1)[0]\n",
    "    return action\n"
   ]
  },
  {
   "cell_type": "markdown",
   "metadata": {},
   "source": [
    "Let's see what it would do if it has a suited set of lower numbers and the opponent has bet. "
   ]
  },
  {
   "cell_type": "code",
   "execution_count": 3,
   "metadata": {},
   "outputs": [
    {
     "name": "stdout",
     "output_type": "stream",
     "text": [
      "bet\n"
     ]
    }
   ],
   "source": [
    "myHand = ['2H','3H']\n",
    "print(get_action(myHand, 'b'))"
   ]
  },
  {
   "cell_type": "markdown",
   "metadata": {},
   "source": [
    "Since our bot is likely playing a mixed strategy, let's see how often it bets or passes (which in this case is a fold)."
   ]
  },
  {
   "cell_type": "code",
   "execution_count": 6,
   "metadata": {},
   "outputs": [
    {
     "name": "stdout",
     "output_type": "stream",
     "text": [
      "bet\n",
      "bet\n",
      "bet\n",
      "bet\n",
      "bet\n",
      "bet\n",
      "bet\n",
      "bet\n",
      "bet\n",
      "bet\n"
     ]
    }
   ],
   "source": [
    "for i in range(10):\n",
    "    print(get_action(myHand, 'b'))"
   ]
  },
  {
   "cell_type": "markdown",
   "metadata": {},
   "source": [
    "We can see that the bot likes to call with a suited pair, even though it has a low card. This is not very intuitive, but the equilibrium of betting and passing is interesting to observe."
   ]
  }
 ],
 "metadata": {
  "kernelspec": {
   "display_name": "mac_ml",
   "language": "python",
   "name": "python3"
  },
  "language_info": {
   "codemirror_mode": {
    "name": "ipython",
    "version": 3
   },
   "file_extension": ".py",
   "mimetype": "text/x-python",
   "name": "python",
   "nbconvert_exporter": "python",
   "pygments_lexer": "ipython3",
   "version": "3.10.6"
  },
  "orig_nbformat": 4
 },
 "nbformat": 4,
 "nbformat_minor": 2
}
