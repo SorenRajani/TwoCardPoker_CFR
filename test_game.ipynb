{
 "cells": [
  {
   "cell_type": "code",
   "execution_count": 1,
   "metadata": {},
   "outputs": [],
   "source": [
    "# Import packages and load the model\n",
    "import pickle\n",
    "from cfr import *\n",
    "\n",
    "# Loading the model\n",
    "with open(\"bot.p\", \"rb\") as f:\n",
    "    trainer = pickle.load(f)\n"
   ]
  },
  {
   "cell_type": "markdown",
   "metadata": {},
   "source": [
    "# Interacting with the bot\n",
    "To interact with the strategy produced by the bot, you can load the pickled model and interact with it using the get actions function. It takes the inputs:\n",
    "* Hand: a hand of two cards represented by a list, for example if I have a pair of red tens I would input ['TH' , 'TD'], or a a suited 2 and three ['3H', '3D']\n",
    "* History: a string represented the past moves in the game, for example if player one passes the history is 'p' (note that the history can be empty when no moves are played)"
   ]
  },
  {
   "cell_type": "code",
   "execution_count": 2,
   "metadata": {},
   "outputs": [],
   "source": [
    "def get_action(hand, history = ''):\n",
    "    strength = str(evaluate_hand(hand))\n",
    "    key = strength + ' ' + history\n",
    "    strategy = [float(prob) for prob in trainer.node_map[key].get_average_strategy()]\n",
    "    action = random.choices(['pass', 'bet'], weights=strategy, k=1)[0]\n",
    "    return action\n"
   ]
  },
  {
   "cell_type": "markdown",
   "metadata": {},
   "source": [
    "Let's see what it would do if it has a suited set of lower numbers and the opponent has bet. "
   ]
  },
  {
   "cell_type": "code",
   "execution_count": 3,
   "metadata": {},
   "outputs": [
    {
     "name": "stdout",
     "output_type": "stream",
     "text": [
      "bet\n"
     ]
    }
   ],
   "source": [
    "myHand = ['2H','3H']\n",
    "print(get_action(myHand, 'b'))"
   ]
  },
  {
   "cell_type": "markdown",
   "metadata": {},
   "source": [
    "Since our bot is likely playing a mixed strategy, let's see how often it bets or passes (which in this case is a fold)."
   ]
  },
  {
   "cell_type": "code",
   "execution_count": 4,
   "metadata": {},
   "outputs": [
    {
     "name": "stdout",
     "output_type": "stream",
     "text": [
      "bet\n",
      "bet\n",
      "bet\n",
      "bet\n",
      "bet\n",
      "bet\n",
      "bet\n",
      "bet\n",
      "bet\n",
      "bet\n"
     ]
    }
   ],
   "source": [
    "for i in range(10):\n",
    "    print(get_action(myHand, 'b'))"
   ]
  },
  {
   "cell_type": "markdown",
   "metadata": {},
   "source": [
    "We can see that the bot likes to call with a suited pair, even though it has a low card. This is not very intuitive, but the equilibrium of betting and passing is interesting to observe."
   ]
  },
  {
   "cell_type": "code",
   "execution_count": 8,
   "metadata": {},
   "outputs": [
    {
     "name": "stdout",
     "output_type": "stream",
     "text": [
      "13     ['0.58', '0.42']\n",
      "112 p  ['0.01', '0.99']\n",
      "13 pb  ['0.02', '0.98']\n",
      "112 b  ['0.00', '1.00']\n",
      "10 p   ['0.99', '0.01']\n",
      "10 b   ['0.64', '0.36']\n",
      "212    ['0.81', '0.19']\n",
      "7 p    ['0.08', '0.92']\n",
      "212 pb ['0.00', '1.00']\n",
      "7 b    ['0.98', '0.02']\n",
      "10     ['0.97', '0.03']\n",
      "13 p   ['0.11', '0.89']\n",
      "10 pb  ['0.70', '0.30']\n",
      "13 b   ['0.03', '0.97']\n",
      "9      ['0.93', '0.07']\n",
      "114 p  ['0.00', '1.00']\n",
      "9 pb   ['0.84', '0.16']\n",
      "114 b  ['0.00', '1.00']\n",
      "14     ['0.26', '0.74']\n",
      "14 pb  ['0.01', '0.99']\n",
      "109    ['0.20', '0.80']\n",
      "109 p  ['0.02', '0.98']\n",
      "109 pb ['0.01', '0.99']\n",
      "109 b  ['0.01', '0.99']\n",
      "11 p   ['0.98', '0.02']\n",
      "11 b   ['0.50', '0.50']\n",
      "7      ['0.56', '0.44']\n",
      "7 pb   ['0.99', '0.01']\n",
      "8      ['0.57', '0.43']\n",
      "8 p    ['0.45', '0.55']\n",
      "8 pb   ['0.95', '0.05']\n",
      "8 b    ['0.96', '0.04']\n",
      "11     ['0.99', '0.01']\n",
      "106 p  ['0.03', '0.97']\n",
      "11 pb  ['0.30', '0.70']\n",
      "106 b  ['0.01', '0.99']\n",
      "14 p   ['0.01', '0.99']\n",
      "14 b   ['0.01', '0.99']\n",
      "113    ['0.42', '0.58']\n",
      "4 p    ['0.04', '0.96']\n",
      "113 pb ['0.00', '1.00']\n",
      "4 b    ['1.00', '0.00']\n",
      "12     ['0.98', '0.02']\n",
      "110 p  ['0.01', '0.99']\n",
      "12 pb  ['0.35', '0.65']\n",
      "110 b  ['0.00', '1.00']\n",
      "210 p  ['0.01', '0.99']\n",
      "210 b  ['0.00', '1.00']\n",
      "206    ['0.14', '0.86']\n",
      "113 p  ['0.00', '1.00']\n",
      "206 pb ['0.01', '0.99']\n",
      "113 b  ['0.00', '1.00']\n",
      "9 p    ['0.96', '0.04']\n",
      "9 b    ['0.80', '0.20']\n",
      "207 p  ['0.01', '0.99']\n",
      "207 b  ['0.00', '1.00']\n",
      "4      ['0.42', '0.58']\n",
      "5 p    ['0.04', '0.96']\n",
      "4 pb   ['1.00', '0.00']\n",
      "5 b    ['0.99', '0.01']\n",
      "110    ['0.43', '0.57']\n",
      "110 pb ['0.00', '1.00']\n",
      "6      ['0.30', '0.70']\n",
      "12 p   ['0.97', '0.03']\n",
      "6 pb   ['0.99', '0.01']\n",
      "12 b   ['0.19', '0.81']\n",
      "207    ['0.14', '0.86']\n",
      "207 pb ['0.01', '0.99']\n",
      "107    ['0.15', '0.85']\n",
      "107 pb ['0.01', '0.99']\n",
      "114    ['0.17', '0.83']\n",
      "111 p  ['0.01', '0.99']\n",
      "114 pb ['0.00', '1.00']\n",
      "111 b  ['0.00', '1.00']\n",
      "3      ['0.59', '0.41']\n",
      "3 pb   ['1.00', '0.00']\n",
      "104 p  ['0.03', '0.97']\n",
      "104 b  ['0.02', '0.98']\n",
      "5      ['0.43', '0.57']\n",
      "5 pb   ['0.99', '0.01']\n",
      "203 p  ['0.01', '0.99']\n",
      "203 b  ['0.00', '1.00']\n",
      "208    ['0.17', '0.83']\n",
      "208 pb ['0.00', '1.00']\n",
      "203    ['0.26', '0.74']\n",
      "203 pb ['0.01', '0.99']\n",
      "108    ['0.13', '0.87']\n",
      "108 pb ['0.01', '0.99']\n",
      "112    ['0.76', '0.24']\n",
      "112 pb ['0.00', '1.00']\n",
      "3 p    ['0.05', '0.95']\n",
      "3 b    ['1.00', '0.00']\n",
      "108 p  ['0.02', '0.98']\n",
      "108 b  ['0.01', '0.99']\n",
      "6 p    ['0.05', '0.95']\n",
      "6 b    ['0.99', '0.01']\n",
      "214 p  ['0.00', '1.00']\n",
      "214 b  ['0.00', '1.00']\n",
      "107 p  ['0.02', '0.98']\n",
      "107 b  ['0.01', '0.99']\n",
      "204    ['0.17', '0.83']\n",
      "204 pb ['0.01', '0.99']\n",
      "202 p  ['0.01', '0.99']\n",
      "202 b  ['0.00', '1.00']\n",
      "206 p  ['0.01', '0.99']\n",
      "206 b  ['0.00', '1.00']\n",
      "208 p  ['0.01', '0.99']\n",
      "208 b  ['0.00', '1.00']\n",
      "211 p  ['0.00', '1.00']\n",
      "211 b  ['0.00', '1.00']\n",
      "111    ['0.63', '0.37']\n",
      "111 pb ['0.00', '1.00']\n",
      "210    ['0.78', '0.22']\n",
      "210 pb ['0.00', '1.00']\n",
      "105    ['0.18', '0.82']\n",
      "105 pb ['0.01', '0.99']\n",
      "209 p  ['0.01', '0.99']\n",
      "209 b  ['0.00', '1.00']\n",
      "104    ['0.12', '0.88']\n",
      "104 pb ['0.02', '0.98']\n",
      "106    ['0.12', '0.88']\n",
      "106 pb ['0.01', '0.99']\n",
      "105 p  ['0.03', '0.97']\n",
      "105 b  ['0.01', '0.99']\n",
      "214    ['0.46', '0.54']\n",
      "214 pb ['0.00', '1.00']\n",
      "202    ['0.31', '0.69']\n",
      "202 pb ['0.00', '1.00']\n",
      "211    ['0.86', '0.14']\n",
      "211 pb ['0.00', '1.00']\n",
      "103    ['0.18', '0.82']\n",
      "103 pb ['0.02', '0.98']\n",
      "213    ['0.31', '0.69']\n",
      "213 pb ['0.00', '1.00']\n",
      "205 p  ['0.01', '0.99']\n",
      "205 b  ['0.00', '1.00']\n",
      "103 p  ['0.04', '0.96']\n",
      "103 b  ['0.03', '0.97']\n",
      "212 p  ['0.00', '1.00']\n",
      "212 b  ['0.00', '1.00']\n",
      "213 p  ['0.00', '1.00']\n",
      "213 b  ['0.00', '1.00']\n",
      "205    ['0.23', '0.77']\n",
      "205 pb ['0.00', '1.00']\n",
      "209    ['0.53', '0.47']\n",
      "209 pb ['0.00', '1.00']\n",
      "204 p  ['0.01', '0.99']\n",
      "204 b  ['0.00', '1.00']\n"
     ]
    }
   ],
   "source": [
    "for _, v in trainer.node_map.items():\n",
    "    print(v)\n"
   ]
  }
 ],
 "metadata": {
  "kernelspec": {
   "display_name": "mac_ml",
   "language": "python",
   "name": "python3"
  },
  "language_info": {
   "codemirror_mode": {
    "name": "ipython",
    "version": 3
   },
   "file_extension": ".py",
   "mimetype": "text/x-python",
   "name": "python",
   "nbconvert_exporter": "python",
   "pygments_lexer": "ipython3",
   "version": "3.10.6"
  },
  "orig_nbformat": 4
 },
 "nbformat": 4,
 "nbformat_minor": 2
}
